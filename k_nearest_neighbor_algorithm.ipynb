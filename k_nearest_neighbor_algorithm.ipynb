{
 "cells": [
  {
   "cell_type": "code",
   "execution_count": 17,
   "metadata": {},
   "outputs": [
    {
     "name": "stdout",
     "output_type": "stream",
     "text": [
      "score:0.9666666666666667\n",
      "              precision    recall  f1-score   support\n",
      "\n",
      "      setosa       1.00      1.00      1.00         6\n",
      "  versicolor       0.94      1.00      0.97        15\n",
      "   virginica       1.00      0.89      0.94         9\n",
      "\n",
      "    accuracy                           0.97        30\n",
      "   macro avg       0.98      0.96      0.97        30\n",
      "weighted avg       0.97      0.97      0.97        30\n",
      "\n",
      "[[ 6  0  0]\n",
      " [ 0 15  0]\n",
      " [ 0  1  8]]\n"
     ]
    }
   ],
   "source": [
    "from sklearn.datasets import load_iris\n",
    "from sklearn.model_selection import train_test_split\n",
    "from sklearn.neighbors import KNeighborsClassifier\n",
    "from sklearn import metrics\n",
    "from sklearn.metrics import accuracy_score, confusion_matrix, classification_report\n",
    "\n",
    "# アイリスデータをロードする\n",
    "iris = load_iris()\n",
    "\n",
    "# 学習用データ、予測用データ、学習用教師データ、予測用教師データを「学習：8、予測：2」の割合で割り当てる\n",
    "(train_X, test_X, train_Y, test_Y) = train_test_split(iris.data, iris.target, test_size=0.2)\n",
    "\n",
    "# K近傍法用インスタンス生成\n",
    "model = KNeighborsClassifier()\n",
    "\n",
    "# 学習モデル生成\n",
    "model.fit(train_X, iris.target_names[train_Y])\n",
    "\n",
    "# K近傍法による予測を行う\n",
    "pred = model.predict(test_X)\n",
    "\n",
    "# 精度を計算する\n",
    "score = accuracy_score(iris.target_names[test_Y], pred)\n",
    "\n",
    "# 結果を出力する\n",
    "print('score:%s' % score)\n",
    "print(classification_report(iris.target_names[test_Y], pred))\n",
    "print(confusion_matrix(iris.target_names[test_Y], pred))"
   ]
  },
  {
   "cell_type": "code",
   "execution_count": null,
   "metadata": {},
   "outputs": [],
   "source": []
  }
 ],
 "metadata": {
  "kernelspec": {
   "display_name": "Python 3",
   "language": "python",
   "name": "python3"
  },
  "language_info": {
   "codemirror_mode": {
    "name": "ipython",
    "version": 3
   },
   "file_extension": ".py",
   "mimetype": "text/x-python",
   "name": "python",
   "nbconvert_exporter": "python",
   "pygments_lexer": "ipython3",
   "version": "3.7.4"
  }
 },
 "nbformat": 4,
 "nbformat_minor": 4
}
