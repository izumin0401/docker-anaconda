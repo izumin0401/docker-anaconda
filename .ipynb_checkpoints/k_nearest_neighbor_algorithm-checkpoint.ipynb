{
 "cells": [
  {
   "cell_type": "code",
   "execution_count": 14,
   "metadata": {},
   "outputs": [
    {
     "name": "stdout",
     "output_type": "stream",
     "text": [
      "score:1.0\n",
      "              precision    recall  f1-score   support\n",
      "\n",
      "      setosa       1.00      1.00      1.00        15\n",
      "  versicolor       1.00      1.00      1.00         5\n",
      "   virginica       1.00      1.00      1.00        10\n",
      "\n",
      "    accuracy                           1.00        30\n",
      "   macro avg       1.00      1.00      1.00        30\n",
      "weighted avg       1.00      1.00      1.00        30\n",
      "\n",
      "[[15  0  0]\n",
      " [ 0  5  0]\n",
      " [ 0  0 10]]\n"
     ]
    }
   ],
   "source": [
    "from sklearn.datasets import load_iris\n",
    "from sklearn.model_selection import train_test_split\n",
    "from sklearn.neighbors import KNeighborsClassifier\n",
    "from sklearn import metrics\n",
    "from sklearn.metrics import accuracy_score, confusion_matrix, classification_report\n",
    "\n",
    "# アイリスデータをロードする\n",
    "iris = load_iris()\n",
    "\n",
    "# 学習用データ、予測用データ、学習用教師データ、予測用教師データを「学習：8、予測：2」の割合で割り当てる\n",
    "(train_X, test_X, train_Y, test_Y) = train_test_split(iris.data, iris.target, test_size=0.2)\n",
    "\n",
    "# K近傍法用インスタンス生成\n",
    "model = KNeighborsClassifier()\n",
    "\n",
    "# 学習モデル生成\n",
    "model.fit(train_X, iris.target_names[train_Y])\n",
    "\n",
    "# K近傍法による予測を行う\n",
    "pred = model.predict(test_X)\n",
    "\n",
    "# 精度を計算する\n",
    "score = accuracy_score(iris.target_names[test_Y], pred)\n",
    "\n",
    "# 結果を出力する\n",
    "print('score:%s' % score)\n",
    "print(classification_report(iris.target_names[test_Y], pred))\n",
    "print(confusion_matrix(iris.target_names[test_Y], pred))"
   ]
  }
 ],
 "metadata": {
  "kernelspec": {
   "display_name": "Python 3",
   "language": "python",
   "name": "python3"
  },
  "language_info": {
   "codemirror_mode": {
    "name": "ipython",
    "version": 3
   },
   "file_extension": ".py",
   "mimetype": "text/x-python",
   "name": "python",
   "nbconvert_exporter": "python",
   "pygments_lexer": "ipython3",
   "version": "3.7.4"
  }
 },
 "nbformat": 4,
 "nbformat_minor": 4
}
